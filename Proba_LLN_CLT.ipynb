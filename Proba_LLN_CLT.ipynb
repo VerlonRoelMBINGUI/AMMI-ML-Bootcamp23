{
  "nbformat": 4,
  "nbformat_minor": 0,
  "metadata": {
    "colab": {
      "provenance": [],
      "include_colab_link": true
    },
    "kernelspec": {
      "name": "python3",
      "display_name": "Python 3"
    },
    "language_info": {
      "name": "python"
    }
  },
  "cells": [
    {
      "cell_type": "markdown",
      "metadata": {
        "id": "view-in-github",
        "colab_type": "text"
      },
      "source": [
        "<a href=\"https://colab.research.google.com/github/VerlonRoelMBINGUI/AMMI-ML-Bootcamp23/blob/main/Proba_LLN_CLT.ipynb\" target=\"_parent\"><img src=\"https://colab.research.google.com/assets/colab-badge.svg\" alt=\"Open In Colab\"/></a>"
      ]
    },
    {
      "cell_type": "markdown",
      "source": [
        "# Random variables, Law of large numbers (LLN) and central limit theorem CLT):\n",
        "In this notebook illustrates the law of large number by using Numpy and scipy. \n",
        "\n",
        "The law of large numbers state, when we sample many time, the sample mean is closed the the population mean:\n",
        "  $\\bar{\\mu} \\to \\mu$. A random variable $X= \\{1, 2, 3, 4, 5, 6\\}$, for a fair dice, $\\mathbb E[X]= \\mu= 3.5$. When we throw dice a large number of times, the average reaches 3.5 which is the expected value."
      ],
      "metadata": {
        "id": "L5KZLQYuR1-i"
      }
    },
    {
      "cell_type": "code",
      "execution_count": null,
      "metadata": {
        "id": "iX7Jr6oDRzlZ"
      },
      "outputs": [],
      "source": [
        "import random\n",
        "import numpy as np\n",
        "import matplotlib.pyplot as plt\n",
        "import seaborn as sbn"
      ]
    },
    {
      "cell_type": "markdown",
      "source": [
        "# Law of large numbers "
      ],
      "metadata": {
        "id": "fgB23zNtv7kC"
      }
    },
    {
      "cell_type": "code",
      "source": [
        "# Create a dice\n",
        "dice = [x for x in range(1,7)]"
      ],
      "metadata": {
        "id": "kLEaY6W7SNgm"
      },
      "execution_count": null,
      "outputs": []
    },
    {
      "cell_type": "code",
      "source": [
        "print(\"A fair dice has 6 faces:\",dice)"
      ],
      "metadata": {
        "colab": {
          "base_uri": "https://localhost:8080/"
        },
        "id": "Kn0Pk5d5TrMM",
        "outputId": "bc231021-2dbf-474f-ef21-81b5b22f0d28"
      },
      "execution_count": null,
      "outputs": [
        {
          "output_type": "stream",
          "name": "stdout",
          "text": [
            "A fair dice has 6 faces: [1, 2, 3, 4, 5, 6]\n"
          ]
        }
      ]
    },
    {
      "cell_type": "code",
      "source": [
        "def rolling_dice(n):\n",
        "    r = []\n",
        "    for _ in range(n):\n",
        "        r.append(random.choice(dice))\n",
        "    return np.array(r)"
      ],
      "metadata": {
        "id": "aNkGUL1wTunC"
      },
      "execution_count": null,
      "outputs": []
    },
    {
      "cell_type": "code",
      "source": [
        "rolling_dice(1)"
      ],
      "metadata": {
        "colab": {
          "base_uri": "https://localhost:8080/"
        },
        "id": "pl3cJ0kNTyM5",
        "outputId": "b45a680e-ce68-47f3-a572-87351d116cb5"
      },
      "execution_count": null,
      "outputs": [
        {
          "output_type": "execute_result",
          "data": {
            "text/plain": [
              "array([4])"
            ]
          },
          "metadata": {},
          "execution_count": 43
        }
      ]
    },
    {
      "cell_type": "code",
      "source": [
        "np.mean(rolling_dice(2))"
      ],
      "metadata": {
        "colab": {
          "base_uri": "https://localhost:8080/"
        },
        "id": "fUY8T9PRT0qF",
        "outputId": "31884018-dbe8-4631-d5dd-39baa05d4512"
      },
      "execution_count": null,
      "outputs": [
        {
          "output_type": "execute_result",
          "data": {
            "text/plain": [
              "3.5"
            ]
          },
          "metadata": {},
          "execution_count": 44
        }
      ]
    },
    {
      "cell_type": "code",
      "source": [
        "for i in [1,5,10,50,100,500,1000,5000,10000, 100000]:\n",
        "    print(\"Average of {} dice throws: {}\".format(i,rolling_dice(i).mean()))"
      ],
      "metadata": {
        "colab": {
          "base_uri": "https://localhost:8080/"
        },
        "id": "l6GIQ9SJT2Sr",
        "outputId": "01e50605-0c22-469b-d25f-c898016bcd7f"
      },
      "execution_count": null,
      "outputs": [
        {
          "output_type": "stream",
          "name": "stdout",
          "text": [
            "Average of 1 dice throws: 6.0\n",
            "Average of 5 dice throws: 4.2\n",
            "Average of 10 dice throws: 3.6\n",
            "Average of 50 dice throws: 3.54\n",
            "Average of 100 dice throws: 3.54\n",
            "Average of 500 dice throws: 3.426\n",
            "Average of 1000 dice throws: 3.529\n",
            "Average of 5000 dice throws: 3.4872\n",
            "Average of 10000 dice throws: 3.5152\n",
            "Average of 100000 dice throws: 3.50335\n"
          ]
        }
      ]
    },
    {
      "cell_type": "code",
      "source": [
        "## write your comments here"
      ],
      "metadata": {
        "id": "vrYowMrlUBGr"
      },
      "execution_count": null,
      "outputs": []
    },
    {
      "cell_type": "markdown",
      "source": [
        "# Central limit theorem"
      ],
      "metadata": {
        "id": "2eWoxVaqUEhL"
      }
    },
    {
      "cell_type": "code",
      "source": [
        "def clt(sample_data,sample_size,total_samples):\n",
        "  sample_mean = []\n",
        "  for _ in range(total_samples):  # iterating for total number of samples for choosing samples and their mean\n",
        "    sample = np.random.choice(sample_data, size = sample_size)    #Note:- replace=False for with-out replacement\n",
        "    mean = np.mean(sample)      # Finding mean of random chose samples using numpy\n",
        "    sample_mean.append(mean)     \n",
        "     \n",
        "  return sample_mean"
      ],
      "metadata": {
        "id": "GFHfOAX8T6EW"
      },
      "execution_count": null,
      "outputs": []
    },
    {
      "cell_type": "code",
      "source": [
        "sample_data= np.random.uniform(size=10000)\n",
        "sample_data"
      ],
      "metadata": {
        "colab": {
          "base_uri": "https://localhost:8080/"
        },
        "id": "3LIwCS087pTG",
        "outputId": "b162d1d7-5a91-4351-ca7d-e2baec1f76d1"
      },
      "execution_count": null,
      "outputs": [
        {
          "output_type": "execute_result",
          "data": {
            "text/plain": [
              "array([0.59895011, 0.35889162, 0.73242425, ..., 0.14617275, 0.98595212,\n",
              "       0.37901668])"
            ]
          },
          "metadata": {},
          "execution_count": 54
        }
      ]
    },
    {
      "cell_type": "code",
      "source": [],
      "metadata": {
        "id": "af3t3uzTVxSJ"
      },
      "execution_count": null,
      "outputs": []
    },
    {
      "cell_type": "code",
      "source": [
        "# sample_data= np.random.uniform(size=10000)\n",
        "sbn.distplot(sample_data)"
      ],
      "metadata": {
        "colab": {
          "base_uri": "https://localhost:8080/",
          "height": 282
        },
        "id": "15laA5QiT98_",
        "outputId": "c1e9d507-bb0b-4d3c-e9b7-6a6340e66c6b"
      },
      "execution_count": null,
      "outputs": [
        {
          "output_type": "execute_result",
          "data": {
            "text/plain": [
              "<matplotlib.axes._subplots.AxesSubplot at 0x7f7f65d55310>"
            ]
          },
          "metadata": {},
          "execution_count": 55
        },
        {
          "output_type": "display_data",
          "data": {
            "text/plain": [
              "<Figure size 432x288 with 1 Axes>"
            ],
            "image/png": "[encoded data removed]"
          },
          "metadata": {
            "needs_background": "light"
          }
        }
      ]
    },
    {
      "cell_type": "code",
      "source": [
        "sample_mean= clt(sample_data,30,100)"
      ],
      "metadata": {
        "id": "6oM3nI_t8Hdi"
      },
      "execution_count": null,
      "outputs": []
    },
    {
      "cell_type": "code",
      "source": [
        "sample"
      ],
      "metadata": {
        "colab": {
          "base_uri": "https://localhost:8080/"
        },
        "id": "BsI-tV4L8Vuv",
        "outputId": "fff33bf7-aad7-4886-b822-662208427b33"
      },
      "execution_count": null,
      "outputs": [
        {
          "output_type": "execute_result",
          "data": {
            "text/plain": [
              "array([0.90453099, 0.08109106, 0.68576894, 0.80728356, 0.36440181,\n",
              "       0.18130552, 0.13658044, 0.48090939, 0.35303095, 0.40252934,\n",
              "       0.9498335 , 0.78909974, 0.53393729, 0.80598343, 0.10572977,\n",
              "       0.22535794, 0.31768526, 0.77213708, 0.9246834 , 0.72243431,\n",
              "       0.23168941, 0.08294553, 0.16070179, 0.95561542, 0.74471856,\n",
              "       0.604556  , 0.87905167, 0.82931298, 0.55034895, 0.26613605])"
            ]
          },
          "metadata": {},
          "execution_count": 60
        }
      ]
    },
    {
      "cell_type": "code",
      "source": [
        "#Appling CLT on sample data. Funtion = apply_CLT(sample_data,sample_size,total_samples)\n",
        "sbn.distplot(clt(sample_data,30,100) )  #(30 0 and 100 0 0 0)"
      ],
      "metadata": {
        "colab": {
          "base_uri": "https://localhost:8080/",
          "height": 337
        },
        "id": "wZyMvGPrVzRk",
        "outputId": "01baddd2-cb7d-4ee8-9827-cbc6563a8af2"
      },
      "execution_count": null,
      "outputs": [
        {
          "output_type": "stream",
          "name": "stderr",
          "text": [
            "/usr/local/lib/python3.8/dist-packages/seaborn/distributions.py:2619: FutureWarning: `distplot` is a deprecated function and will be removed in a future version. Please adapt your code to use either `displot` (a figure-level function with similar flexibility) or `histplot` (an axes-level function for histograms).\n",
            "  warnings.warn(msg, FutureWarning)\n"
          ]
        },
        {
          "output_type": "execute_result",
          "data": {
            "text/plain": [
              "<matplotlib.axes._subplots.AxesSubplot at 0x7f7f65c5a4c0>"
            ]
          },
          "metadata": {},
          "execution_count": 61
        },
        {
          "output_type": "display_data",
          "data": {
            "text/plain": [
              "<Figure size 432x288 with 1 Axes>"
            ],
            "image/png": "[encoded data removed]"
          },
          "metadata": {
            "needs_background": "light"
          }
        }
      ]
    },
    {
      "cell_type": "code",
      "source": [
        "sample_data = np.random.normal(size=100)\n",
        "sbn.distplot(sample_data) "
      ],
      "metadata": {
        "colab": {
          "base_uri": "https://localhost:8080/",
          "height": 337
        },
        "id": "ZxlIxEOcV49O",
        "outputId": "58ffe07d-1e22-4b6a-f11c-2fb68ed5c4c1"
      },
      "execution_count": null,
      "outputs": [
        {
          "output_type": "stream",
          "name": "stderr",
          "text": [
            "/usr/local/lib/python3.8/dist-packages/seaborn/distributions.py:2619: FutureWarning: `distplot` is a deprecated function and will be removed in a future version. Please adapt your code to use either `displot` (a figure-level function with similar flexibility) or `histplot` (an axes-level function for histograms).\n",
            "  warnings.warn(msg, FutureWarning)\n"
          ]
        },
        {
          "output_type": "execute_result",
          "data": {
            "text/plain": [
              "<matplotlib.axes._subplots.AxesSubplot at 0x7f7f65c07b80>"
            ]
          },
          "metadata": {},
          "execution_count": 62
        },
        {
          "output_type": "display_data",
          "data": {
            "text/plain": [
              "<Figure size 432x288 with 1 Axes>"
            ],
            "image/png": "[encoded data removed]"
          },
          "metadata": {
            "needs_background": "light"
          }
        }
      ]
    },
    {
      "cell_type": "code",
      "source": [
        "#Appling CLT on sample data. Funtion = apply_CLT(sample_data,sample_size,total_samples)\n",
        "sbn.distplot( clt(sample_data,30,1000) )"
      ],
      "metadata": {
        "colab": {
          "base_uri": "https://localhost:8080/",
          "height": 337
        },
        "id": "9J8v4rliV84N",
        "outputId": "3f571600-8171-43af-d1b6-c36d89d57777"
      },
      "execution_count": null,
      "outputs": [
        {
          "output_type": "stream",
          "name": "stderr",
          "text": [
            "/usr/local/lib/python3.8/dist-packages/seaborn/distributions.py:2619: FutureWarning: `distplot` is a deprecated function and will be removed in a future version. Please adapt your code to use either `displot` (a figure-level function with similar flexibility) or `histplot` (an axes-level function for histograms).\n",
            "  warnings.warn(msg, FutureWarning)\n"
          ]
        },
        {
          "output_type": "execute_result",
          "data": {
            "text/plain": [
              "<matplotlib.axes._subplots.AxesSubplot at 0x7f7f65b7ea90>"
            ]
          },
          "metadata": {},
          "execution_count": 63
        },
        {
          "output_type": "display_data",
          "data": {
            "text/plain": [
              "<Figure size 432x288 with 1 Axes>"
            ],
            "image/png": "[encoded data removed]"
          },
          "metadata": {
            "needs_background": "light"
          }
        }
      ]
    },
    {
      "cell_type": "code",
      "source": [],
      "metadata": {
        "id": "35da7UL2V_jx"
      },
      "execution_count": null,
      "outputs": []
    }
  ]
}